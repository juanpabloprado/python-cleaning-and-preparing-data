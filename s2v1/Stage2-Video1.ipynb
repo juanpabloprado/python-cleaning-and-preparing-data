{
 "cells": [
  {
   "cell_type": "markdown",
   "metadata": {},
   "source": [
    "Import the pandas library and load in the data file\n",
    "---"
   ]
  },
  {
   "cell_type": "code",
   "execution_count": null,
   "metadata": {},
   "outputs": [],
   "source": [
    "import pandas as pd\n",
    "\n",
    "demo = pd.read_csv('Demographics.csv')"
   ]
  },
  {
   "cell_type": "markdown",
   "metadata": {},
   "source": [
    "Look at the data types of different columns\n",
    "---"
   ]
  },
  {
   "cell_type": "code",
   "execution_count": null,
   "metadata": {},
   "outputs": [],
   "source": [
    "demo.loc[:,['SEQN','RIDAGEYR','RIAGENDR','DMQMILIT', 'DMDCITZN']].dtypes"
   ]
  },
  {
   "cell_type": "markdown",
   "metadata": {},
   "source": [
    "Find unique entries for Military/Veteran Status\n",
    "---\n",
    "\n",
    "According to the [Demographics Codebook](https://wwwn.cdc.gov/Nchs/Nhanes/1999-2000/DEMO.htm) there should be 5 unique entries:\n",
    "  * Yes\n",
    "  * No\n",
    "  * Don't know\n",
    "  * Refused\n",
    "  * Missing (NaN)"
   ]
  },
  {
   "cell_type": "code",
   "execution_count": null,
   "metadata": {},
   "outputs": [],
   "source": [
    "print(len(demo['DMQMILIT'].unique()))\n",
    "print(demo['DMQMILIT'].unique())"
   ]
  },
  {
   "cell_type": "markdown",
   "metadata": {},
   "source": [
    "Remove excess whitespace\n",
    "---"
   ]
  },
  {
   "cell_type": "code",
   "execution_count": null,
   "metadata": {},
   "outputs": [],
   "source": [
    "demo.loc[:,'DMQMILIT'] = demo.loc[:,'DMQMILIT'].str.strip()\n",
    "\n",
    "print(len(demo['DMQMILIT'].unique()))\n",
    "print(demo['DMQMILIT'].unique())"
   ]
  },
  {
   "cell_type": "markdown",
   "metadata": {},
   "source": [
    "Change Y and N to Yes and No\n",
    "---\n",
    "\n",
    "Use the `replace()` method to change 'Y' and 'N' to 'Yes' and 'No'\n",
    "\n",
    "* `replace_dict` - specifies how to replace the data\n",
    "  - Outer dictionary: key is column name, value is dictionary of replacements (inner dictionary)\n",
    "  - Inner dictionary: key is the value to be replaced, value is what to replace all instances of the key with"
   ]
  },
  {
   "cell_type": "code",
   "execution_count": null,
   "metadata": {},
   "outputs": [],
   "source": [
    "replace_dict = {'DMQMILIT': {\n",
    "                              'Y':'Yes', \n",
    "                              'N':'No'\n",
    "                            }\n",
    "               }\n",
    "\n",
    "demo.replace(replace_dict, inplace=True)\n",
    "\n",
    "print(len(demo['DMQMILIT'].unique()))\n",
    "print(demo['DMQMILIT'].unique())"
   ]
  },
  {
   "cell_type": "markdown",
   "metadata": {
    "collapsed": true
   },
   "source": [
    "Find unique entries for Citizenship Status\n",
    "---\n",
    "\n",
    "According to the [Demographics Codebook](https://wwwn.cdc.gov/Nchs/Nhanes/1999-2000/DEMO.htm) there should be 5 unique entries:\n",
    "  * Citizen by birth or naturalization\n",
    "  * Not a citizen of the US\n",
    "  * Refused\n",
    "  * Don't know\n",
    "  * Missing (NaN)"
   ]
  },
  {
   "cell_type": "code",
   "execution_count": null,
   "metadata": {},
   "outputs": [],
   "source": [
    "print(len(demo['DMDCITZN'].unique()))\n",
    "print(demo['DMDCITZN'].unique())"
   ]
  },
  {
   "cell_type": "markdown",
   "metadata": {},
   "source": [
    "Remove excess whitespace\n",
    "---"
   ]
  },
  {
   "cell_type": "code",
   "execution_count": null,
   "metadata": {},
   "outputs": [],
   "source": [
    "demo.loc[:,'DMDCITZN'] = demo.loc[:,'DMDCITZN'].str.strip()\n",
    "\n",
    "print(len(demo['DMDCITZN'].unique()))\n",
    "print(demo['DMDCITZN'].unique())"
   ]
  },
  {
   "cell_type": "markdown",
   "metadata": {},
   "source": [
    "Replace misspellings\n",
    "---\n",
    "\n",
    "Three values should be replaced with \"Don't know\"\n",
    "  * \"Dont know\"\n",
    "  * \"Don't Know\"\n",
    "  * \"Unknown\""
   ]
  },
  {
   "cell_type": "code",
   "execution_count": null,
   "metadata": {},
   "outputs": [],
   "source": [
    "replace_dict = {'DMDCITZN': {\n",
    "                              \"Dont know\":\"Don't know\", \n",
    "                              \"Don't Know\":\"Don't know\",\n",
    "                              \"Unknown\":\"Don't know\"\n",
    "                            }\n",
    "               }\n",
    "\n",
    "demo.replace(replace_dict, inplace=True)\n",
    "\n",
    "print(len(demo['DMDCITZN'].unique()))\n",
    "print(demo['DMDCITZN'].unique())"
   ]
  },
  {
   "cell_type": "markdown",
   "metadata": {},
   "source": [
    "Replace both columns at once\n",
    "---"
   ]
  },
  {
   "cell_type": "code",
   "execution_count": null,
   "metadata": {},
   "outputs": [],
   "source": [
    "replace_dict = {'DMQMILIT': {\n",
    "                              'Y':'Yes', \n",
    "                              'N':'No'\n",
    "                            },\n",
    "                'DMDCITZN': {\n",
    "                              \"Dont know\":\"Don't know\", \n",
    "                              \"Don't Know\":\"Don't know\",\n",
    "                              \"Unknown\":\"Don't know\"\n",
    "                            }\n",
    "               }\n",
    "\n",
    "demo.replace(replace_dict, inplace=True)"
   ]
  },
  {
   "cell_type": "markdown",
   "metadata": {},
   "source": [
    "Individual Practice\n",
    "---\n",
    "\n",
    "1. Find all of the columns in the demographics file that contain string data. \n",
    "2. Get rid of all excess whitespace.\n",
    "3. Make sure all text entries match the text options in the [demographics codebook](https://wwwn.cdc.gov/Nchs/Nhanes/1999-2000/DEMO.htm)."
   ]
  },
  {
   "cell_type": "code",
   "execution_count": null,
   "metadata": {},
   "outputs": [],
   "source": [
    "# Write your code here!"
   ]
  },
  {
   "cell_type": "markdown",
   "metadata": {},
   "source": [
    "Save data files\n",
    "---"
   ]
  },
  {
   "cell_type": "code",
   "execution_count": null,
   "metadata": {},
   "outputs": [],
   "source": [
    "# demo.to_csv('Demographics', index=False)"
   ]
  }
 ],
 "metadata": {
  "kernelspec": {
   "display_name": "Python 3",
   "language": "python",
   "name": "python3"
  },
  "language_info": {
   "codemirror_mode": {
    "name": "ipython",
    "version": 3
   },
   "file_extension": ".py",
   "mimetype": "text/x-python",
   "name": "python",
   "nbconvert_exporter": "python",
   "pygments_lexer": "ipython3",
   "version": "3.7.1"
  }
 },
 "nbformat": 4,
 "nbformat_minor": 2
}
