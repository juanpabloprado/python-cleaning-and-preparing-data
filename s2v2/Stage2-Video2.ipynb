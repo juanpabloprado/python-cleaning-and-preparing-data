{
 "cells": [
  {
   "cell_type": "markdown",
   "metadata": {},
   "source": [
    "Import the pandas library and load in the data file\n",
    "---"
   ]
  },
  {
   "cell_type": "code",
   "execution_count": null,
   "metadata": {},
   "outputs": [],
   "source": [
    "import pandas as pd\n",
    "\n",
    "demo = pd.read_csv('Demographics.csv')"
   ]
  },
  {
   "cell_type": "markdown",
   "metadata": {},
   "source": [
    "Replace strings with numerical code\n",
    "---"
   ]
  },
  {
   "cell_type": "code",
   "execution_count": null,
   "metadata": {},
   "outputs": [],
   "source": [
    "replace_dict = {'DMQMILIT': {\n",
    "                              'Yes':1, \n",
    "                              'No':2,\n",
    "                              'Refused':7,\n",
    "                              \"Don't know\":9\n",
    "                            },\n",
    "                'DMDCITZN': {\n",
    "                              'Citizen by birth or naturalization':1, \n",
    "                              'Not a citizen of the US':2,\n",
    "                              'Refused':7,\n",
    "                              \"Don't know\":9\n",
    "                            }\n",
    "               }\n",
    "\n",
    "demo.replace(replace_dict, inplace=True)\n",
    "\n",
    "print(demo['DMQMILIT'].unique())\n",
    "print(demo['DMDCITZN'].unique())"
   ]
  },
  {
   "cell_type": "markdown",
   "metadata": {},
   "source": [
    "Replace column names with human-readable strings\n",
    "---"
   ]
  },
  {
   "cell_type": "code",
   "execution_count": null,
   "metadata": {},
   "outputs": [],
   "source": [
    "column_dict = {\n",
    "    'DMQMILIT':'Veteran/Military Status',\n",
    "    'DMDCITZN':'Citizenship Status'}\n",
    "\n",
    "\n",
    "demo.rename(columns=column_dict, inplace=True)\n",
    "\n",
    "demo.columns[10:15]"
   ]
  },
  {
   "cell_type": "markdown",
   "metadata": {},
   "source": [
    "View new column types\n",
    "---"
   ]
  },
  {
   "cell_type": "code",
   "execution_count": null,
   "metadata": {},
   "outputs": [],
   "source": [
    "demo.loc[:,['Veteran/Military Status', 'Citizenship Status']].dtypes"
   ]
  },
  {
   "cell_type": "markdown",
   "metadata": {},
   "source": [
    "Individual Practice\n",
    "---\n",
    "\n",
    "1. Convert the columns with string entries to the numeric codes listed in the demographics codebook. \n",
    "2. Return all column names to the original ones used in the codebook."
   ]
  },
  {
   "cell_type": "code",
   "execution_count": null,
   "metadata": {},
   "outputs": [],
   "source": [
    "# Write your code here!"
   ]
  },
  {
   "cell_type": "markdown",
   "metadata": {},
   "source": [
    "Save data files\n",
    "---"
   ]
  },
  {
   "cell_type": "code",
   "execution_count": null,
   "metadata": {},
   "outputs": [],
   "source": [
    "# demo.to_csv('Demographics.csv', index=False)"
   ]
  }
 ],
 "metadata": {
  "kernelspec": {
   "display_name": "Python 3",
   "language": "python",
   "name": "python3"
  },
  "language_info": {
   "codemirror_mode": {
    "name": "ipython",
    "version": 3
   },
   "file_extension": ".py",
   "mimetype": "text/x-python",
   "name": "python",
   "nbconvert_exporter": "python",
   "pygments_lexer": "ipython3",
   "version": "3.7.1"
  }
 },
 "nbformat": 4,
 "nbformat_minor": 2
}
