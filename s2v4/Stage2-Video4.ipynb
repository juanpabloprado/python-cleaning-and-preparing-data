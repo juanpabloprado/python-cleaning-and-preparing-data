{
 "cells": [
  {
   "cell_type": "markdown",
   "metadata": {},
   "source": [
    "Import the Pandas and Numpy libraries and load in the data file\n",
    "---"
   ]
  },
  {
   "cell_type": "code",
   "execution_count": null,
   "metadata": {},
   "outputs": [],
   "source": [
    "import pandas as pd\n",
    "import numpy as np\n",
    "\n",
    "demo = pd.read_csv('Demographics.csv')\n",
    "bmx = pd.read_csv('BodyMeasures.csv')"
   ]
  },
  {
   "cell_type": "markdown",
   "metadata": {},
   "source": [
    "How much data is missing from each column?\n",
    "---"
   ]
  },
  {
   "cell_type": "code",
   "execution_count": null,
   "metadata": {},
   "outputs": [],
   "source": [
    "valid_entries = demo.count()\n",
    "total_rows = len(demo.index)\n",
    "missing_data = total_rows - valid_entries\n",
    "missing_data.head()"
   ]
  },
  {
   "cell_type": "markdown",
   "metadata": {},
   "source": [
    "As a percentage\n",
    "---"
   ]
  },
  {
   "cell_type": "code",
   "execution_count": null,
   "metadata": {},
   "outputs": [],
   "source": [
    "missing_percentage = missing_data / total_rows * 100\n",
    "missing_percentage.head()"
   ]
  },
  {
   "cell_type": "markdown",
   "metadata": {},
   "source": [
    "How much data is missing from each row?\n",
    "---"
   ]
  },
  {
   "cell_type": "code",
   "execution_count": null,
   "metadata": {},
   "outputs": [],
   "source": [
    "missing_data = np.sum(demo.isnull(), axis=1)\n",
    "num_cols = len(demo.columns)\n",
    "missing_percentage = missing_data / num_cols * 100\n",
    "\n",
    "missing_percentage.head()"
   ]
  },
  {
   "cell_type": "markdown",
   "metadata": {
    "collapsed": true
   },
   "source": [
    "What about entries equivalent to unknown?\n",
    "---\n",
    "\n",
    "DMDSCHOL - Now attending school? ([codebook entry](https://wwwn.cdc.gov/Nchs/Nhanes/1999-2000/DEMO.htm#DMDSCHOL))\n",
    "\n",
    "|Code|Meaning|\n",
    "|:--- |:--- |\n",
    "|1| In school|\n",
    "|2|\tOn vacation from school (between grades)|\n",
    "|3|\tNeither in school or on vacation from school (between grades)|\n",
    "|7|\tRefused|\n",
    "|9|\tDon't know|"
   ]
  },
  {
   "cell_type": "code",
   "execution_count": null,
   "metadata": {},
   "outputs": [],
   "source": [
    "perc = (len(demo.index)-demo['DMDSCHOL'].count())/len(demo.index)*100\n",
    "print('Percent missing: %d' % perc)\n",
    "\n",
    "num_refused = sum(demo['DMDSCHOL'] == 7)\n",
    "num_dontknow = sum(demo['DMDSCHOL'] == 9)\n",
    "print('Number refused: %d' % num_refused)\n",
    "print('Number unknown: %d' % num_dontknow)"
   ]
  },
  {
   "cell_type": "code",
   "execution_count": null,
   "metadata": {},
   "outputs": [],
   "source": [
    "unknown_ind = demo.loc[:,'DMDSCHOL'] > 3\n",
    "demo.loc[unknown_ind,'DMDSCHOL'] = np.nan\n",
    "print(demo['DMDSCHOL'].unique())"
   ]
  },
  {
   "cell_type": "code",
   "execution_count": null,
   "metadata": {},
   "outputs": [],
   "source": [
    "perc = (len(demo.index)-demo['DMDSCHOL'].count())/len(demo.index)*100\n",
    "print('Percent missing: %d' % perc)\n",
    "\n",
    "num_refused = sum(demo['DMDSCHOL'] == 7)\n",
    "num_dontknow = sum(demo['DMDSCHOL'] == 9)\n",
    "print('Number refused: %d' % num_refused)\n",
    "print('Number unknown: %d' % num_dontknow)"
   ]
  },
  {
   "cell_type": "markdown",
   "metadata": {},
   "source": [
    "Wrong Information\n",
    "---"
   ]
  },
  {
   "cell_type": "code",
   "execution_count": null,
   "metadata": {},
   "outputs": [],
   "source": [
    "print('Demographics:')\n",
    "print(demo.dtypes.head())\n",
    "print('\\nBody Measures:')\n",
    "print(bmx.dtypes.head())"
   ]
  },
  {
   "cell_type": "code",
   "execution_count": null,
   "metadata": {},
   "outputs": [],
   "source": [
    "bmx.loc[:,'SEQN'] = pd.to_numeric(bmx['SEQN'], downcast='integer')"
   ]
  },
  {
   "cell_type": "code",
   "execution_count": null,
   "metadata": {},
   "outputs": [],
   "source": [
    "bmx.loc[:,'SEQN'] = pd.to_numeric(bmx['SEQN'], errors='coerce', downcast='integer')\n",
    "bmx.dtypes.head()"
   ]
  },
  {
   "cell_type": "code",
   "execution_count": null,
   "metadata": {},
   "outputs": [],
   "source": [
    "ind = np.isnan(bmx['SEQN'])\n",
    "bmx = bmx.loc[~ind,:]\n",
    "bmx.loc[:,'SEQN'] = pd.to_numeric(bmx['SEQN'], errors='coerce', downcast='integer')\n",
    "bmx.dtypes.head()"
   ]
  },
  {
   "cell_type": "markdown",
   "metadata": {},
   "source": [
    "Sensitive Data: Minor Marital Status\n",
    "---"
   ]
  },
  {
   "cell_type": "code",
   "execution_count": null,
   "metadata": {},
   "outputs": [],
   "source": [
    "minor_ind = demo.loc[:,'RIDAGEYR'] < 18\n",
    "print(demo.loc[minor_ind, 'DMDMARTL'].count())"
   ]
  },
  {
   "cell_type": "code",
   "execution_count": null,
   "metadata": {},
   "outputs": [],
   "source": []
  },
  {
   "cell_type": "code",
   "execution_count": null,
   "metadata": {},
   "outputs": [],
   "source": [
    "demo.loc[minor_ind, 'DMDMARTL'] = np.nan\n",
    "print(demo.loc[minor_ind, 'DMDMARTL'].count())"
   ]
  },
  {
   "cell_type": "code",
   "execution_count": null,
   "metadata": {},
   "outputs": [],
   "source": []
  },
  {
   "cell_type": "markdown",
   "metadata": {},
   "source": [
    "Individual Practice\n",
    "---\n",
    "\n",
    "1. Find the column with the highest percentage of missing information in demographics\n",
    "2. Remove confidential pregnancy status for minors (rows 'RIDEXPRG' and 'RIDPREG')\n"
   ]
  },
  {
   "cell_type": "code",
   "execution_count": null,
   "metadata": {},
   "outputs": [],
   "source": [
    "# Put your code here"
   ]
  },
  {
   "cell_type": "markdown",
   "metadata": {},
   "source": [
    "Save Data Files\n",
    "---"
   ]
  },
  {
   "cell_type": "code",
   "execution_count": null,
   "metadata": {},
   "outputs": [],
   "source": [
    "# demo.to_csv('Demographics.csv', index=False)\n",
    "# bmx.to_csv('BodyMeasures.csv', index=False)"
   ]
  }
 ],
 "metadata": {
  "kernelspec": {
   "display_name": "Python 3",
   "language": "python",
   "name": "python3"
  },
  "language_info": {
   "codemirror_mode": {
    "name": "ipython",
    "version": 3
   },
   "file_extension": ".py",
   "mimetype": "text/x-python",
   "name": "python",
   "nbconvert_exporter": "python",
   "pygments_lexer": "ipython3",
   "version": "3.7.1"
  }
 },
 "nbformat": 4,
 "nbformat_minor": 2
}
